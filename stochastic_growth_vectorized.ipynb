{
 "metadata": {
  "name": "stochastic_growth_vectorized"
 },
 "nbformat": 3,
 "nbformat_minor": 0,
 "worksheets": [
  {
   "cells": [
    {
     "cell_type": "code",
     "collapsed": false,
     "input": [
      "%run OGM_Stoc_Vector.py"
     ],
     "language": "python",
     "metadata": {},
     "outputs": [],
     "prompt_number": 1
    },
    {
     "cell_type": "code",
     "collapsed": false,
     "input": [
      "%prun -s time V0 = solve_value( kgrid,kpgrid,V0,p,pgrid,Agrid,shock )"
     ],
     "language": "python",
     "metadata": {},
     "outputs": [
      {
       "output_type": "stream",
       "stream": "stdout",
       "text": [
        "Iteration     1 . Error :  0.984. Elapsed :  0.116\n",
        "Iteration     2 . Error :  0.717. Elapsed :  0.002\n",
        "Iteration     3 . Error :  0.577. Elapsed :  0.002\n",
        "Iteration     4 . Error :  0.481. Elapsed :  0.002\n",
        "Iteration     5 . Error :  0.417. Elapsed :  0.002\n",
        "Iteration     6 . Error :  0.371. Elapsed :  0.002\n",
        "Iteration     7 . Error :  0.338. Elapsed :  0.002\n",
        "Iteration     8 . Error :  0.313. Elapsed :  0.002\n",
        "Iteration     9 . Error :  0.291. Elapsed :  0.002\n",
        "Iteration    10 . Error :  0.273. Elapsed :  0.002\n",
        "Iteration    11 . Error :  0.258. Elapsed :  0.002\n",
        "Iteration    12 . Error :  0.243. Elapsed :  0.002\n",
        "Iteration    13 . Error :  0.230. Elapsed :  0.002\n",
        "Iteration    14 . Error :  0.218. Elapsed :  0.002\n",
        "Iteration    15 . Error :  0.207. Elapsed :  0.002\n",
        "Iteration    16 . Error :  0.197. Elapsed :  0.002\n",
        "Iteration    17 . Error :  0.187. Elapsed :  0.002\n",
        "Iteration    18 . Error :  0.177. Elapsed :  0.002\n",
        "Iteration    19 . Error :  0.168. Elapsed :  0.002\n",
        "Iteration    20 . Error :  0.160. Elapsed :  0.002\n",
        "Iteration    21 . Error :  0.152. Elapsed :  0.002\n",
        "Iteration    22 . Error :  0.144. Elapsed :  0.002\n",
        "Iteration    23 . Error :  0.137. Elapsed :  0.002\n",
        "Iteration    24 . Error :  0.130. Elapsed :  0.002\n",
        "Iteration    25 . Error :  0.124. Elapsed :  0.002\n",
        "Iteration    26 . Error :  0.117. Elapsed :  0.002\n",
        "Iteration    27 . Error :  0.112. Elapsed :  0.002\n",
        "Iteration    28 . Error :  0.106. Elapsed :  0.002\n",
        "Iteration    29 . Error :  0.101. Elapsed :  0.002\n",
        "Iteration    30 . Error :  0.096. Elapsed :  0.002"
       ]
      },
      {
       "output_type": "stream",
       "stream": "stdout",
       "text": [
        "\n",
        "Iteration    31 . Error :  0.091. Elapsed :  0.002\n",
        "Iteration    32 . Error :  0.086. Elapsed :  0.002\n",
        "Iteration    33 . Error :  0.082. Elapsed :  0.002\n",
        "Iteration    34 . Error :  0.078. Elapsed :  0.002\n",
        "Iteration    35 . Error :  0.074. Elapsed :  0.002\n",
        "Iteration    36 . Error :  0.070. Elapsed :  0.002\n",
        "Iteration    37 . Error :  0.067. Elapsed :  0.002\n",
        "Iteration    38 . Error :  0.063. Elapsed :  0.002\n",
        "Iteration    39 . Error :  0.060. Elapsed :  0.002\n",
        "Iteration    40 . Error :  0.057. Elapsed :  0.003\n",
        "Iteration    41 . Error :  0.054. Elapsed :  0.002\n",
        "Iteration    42 . Error :  0.052. Elapsed :  0.002\n",
        "Iteration    43 . Error :  0.049. Elapsed :  0.003\n",
        "Iteration    44 . Error :  0.047. Elapsed :  0.002\n",
        "Iteration    45 . Error :  0.044. Elapsed :  0.002\n",
        "Iteration    46 . Error :  0.042. Elapsed :  0.002\n",
        "Iteration    47 . Error :  0.040. Elapsed :  0.002\n",
        "Iteration    48 . Error :  0.038. Elapsed :  0.002\n",
        "Iteration    49 . Error :  0.036. Elapsed :  0.002\n",
        "Iteration    50 . Error :  0.034. Elapsed :  0.003\n",
        "Iteration    51 . Error :  0.033. Elapsed :  0.002\n",
        "Iteration    52 . Error :  0.031. Elapsed :  0.002\n",
        "Iteration    53 . Error :  0.029. Elapsed :  0.002\n",
        "Iteration    54 . Error :  0.028. Elapsed :  0.002\n",
        "Iteration    55 . Error :  0.027. Elapsed :  0.002\n",
        "Iteration    56 . Error :  0.025. Elapsed :  0.002\n",
        "Iteration    57 . Error :  0.024. Elapsed :  0.002"
       ]
      },
      {
       "output_type": "stream",
       "stream": "stdout",
       "text": [
        "\n",
        "Iteration    58 . Error :  0.023. Elapsed :  0.002\n",
        "Iteration    59 . Error :  0.022. Elapsed :  0.002\n",
        "Iteration    60 . Error :  0.021. Elapsed :  0.002\n",
        "Iteration    61 . Error :  0.020. Elapsed :  0.002\n",
        "Iteration    62 . Error :  0.019. Elapsed :  0.002\n",
        "Iteration    63 . Error :  0.018. Elapsed :  0.002\n",
        "Iteration    64 . Error :  0.017. Elapsed :  0.002\n",
        "Iteration    65 . Error :  0.016. Elapsed :  0.002\n",
        "Iteration    66 . Error :  0.015. Elapsed :  0.002\n",
        "Iteration    67 . Error :  0.014. Elapsed :  0.002\n",
        "Iteration    68 . Error :  0.014. Elapsed :  0.002\n",
        "Iteration    69 . Error :  0.013. Elapsed :  0.002\n",
        "Iteration    70 . Error :  0.012. Elapsed :  0.002\n",
        "Iteration    71 . Error :  0.012. Elapsed :  0.002\n",
        "Iteration    72 . Error :  0.011. Elapsed :  0.002\n",
        "Iteration    73 . Error :  0.011. Elapsed :  0.002\n",
        "Iteration    74 . Error :  0.010. Elapsed :  0.002\n",
        "Iteration    75 . Error :  0.010. Elapsed :  0.002\n",
        "Iteration    76 . Error :  0.009. Elapsed :  0.002\n",
        "Iteration    77 . Error :  0.009. Elapsed :  0.002\n",
        "Iteration    78 . Error :  0.008. Elapsed :  0.002\n",
        "Iteration    79 . Error :  0.008. Elapsed :  0.002\n",
        "Iteration    80 . Error :  0.007. Elapsed :  0.002\n",
        "Iteration    81 . Error :  0.007. Elapsed :  0.002\n",
        "Iteration    82 . Error :  0.007. Elapsed :  0.002\n",
        "Iteration    83 . Error :  0.006. Elapsed :  0.002\n",
        "Iteration    84 . Error :  0.006. Elapsed :  0.002"
       ]
      },
      {
       "output_type": "stream",
       "stream": "stdout",
       "text": [
        "\n",
        "Iteration    85 . Error :  0.006. Elapsed :  0.002\n",
        "Iteration    86 . Error :  0.005. Elapsed :  0.002\n",
        "Iteration    87 . Error :  0.005. Elapsed :  0.002\n",
        "Iteration    88 . Error :  0.005. Elapsed :  0.002\n",
        "Iteration    89 . Error :  0.005. Elapsed :  0.002\n",
        "Iteration    90 . Error :  0.004. Elapsed :  0.002\n",
        "Iteration    91 . Error :  0.004. Elapsed :  0.002\n",
        "Iteration    92 . Error :  0.004. Elapsed :  0.002\n",
        "Iteration    93 . Error :  0.004. Elapsed :  0.003\n",
        "Iteration    94 . Error :  0.004. Elapsed :  0.002\n",
        "Iteration    95 . Error :  0.003. Elapsed :  0.002\n",
        "Iteration    96 . Error :  0.003. Elapsed :  0.002\n",
        "Iteration    97 . Error :  0.003. Elapsed :  0.002\n",
        "Iteration    98 . Error :  0.003. Elapsed :  0.002\n",
        "Iteration    99 . Error :  0.003. Elapsed :  0.002\n",
        "Iteration   100 . Error :  0.003. Elapsed :  0.002\n",
        "Iteration   101 . Error :  0.003. Elapsed :  0.002\n",
        "Iteration   102 . Error :  0.002. Elapsed :  0.002\n",
        "Iteration   103 . Error :  0.002. Elapsed :  0.002\n",
        "Iteration   104 . Error :  0.002. Elapsed :  0.002\n",
        "Iteration   105 . Error :  0.002. Elapsed :  0.002\n",
        "Iteration   106 . Error :  0.002. Elapsed :  0.002\n",
        "Iteration   107 . Error :  0.002. Elapsed :  0.002\n",
        "Iteration   108 . Error :  0.002. Elapsed :  0.002\n",
        "Iteration   109 . Error :  0.002. Elapsed :  0.002\n",
        "Iteration   110 . Error :  0.002. Elapsed :  0.002\n",
        "Iteration   111 . Error :  0.002. Elapsed :  0.002"
       ]
      },
      {
       "output_type": "stream",
       "stream": "stdout",
       "text": [
        "\n",
        "Iteration   112 . Error :  0.001. Elapsed :  0.002\n",
        "Iteration   113 . Error :  0.001. Elapsed :  0.002\n",
        "Iteration   114 . Error :  0.001. Elapsed :  0.002\n",
        "Iteration   115 . Error :  0.001. Elapsed :  0.002\n",
        "Iteration   116 . Error :  0.001. Elapsed :  0.002\n",
        "Iteration   117 . Error :  0.001. Elapsed :  0.005\n",
        "Iteration   118 . Error :  0.001. Elapsed :  0.002\n",
        "Iteration   119 . Error :  0.001. Elapsed :  0.002\n",
        "Iteration   120 . Error :  0.001. Elapsed :  0.002\n",
        "Iteration   121 . Error :  0.001. Elapsed :  0.002\n",
        "Iteration   122 . Error :  0.001. Elapsed :  0.002\n",
        "Iteration   123 . Error :  0.001. Elapsed :  0.002\n",
        "Iteration   124 . Error :  0.001. Elapsed :  0.002\n",
        "Iteration   125 . Error :  0.001. Elapsed :  0.002\n",
        "Iteration   126 . Error :  0.001. Elapsed :  0.002\n",
        "Iteration   127 . Error :  0.001. Elapsed :  0.002\n",
        "Iteration   128 . Error :  0.001. Elapsed :  0.002\n",
        "Iteration   129 . Error :  0.001. Elapsed :  0.002\n",
        "Iteration   130 . Error :  0.001. Elapsed :  0.002\n",
        "Iteration   131 . Error :  0.001. Elapsed :  0.002\n",
        "Iteration   132 . Error :  0.001. Elapsed :  0.002\n",
        "Iteration   133 . Error :  0.000. Elapsed :  0.002\n",
        "Iteration   134 . Error :  0.000. Elapsed :  0.003\n",
        "Iteration   135 . Error :  0.000. Elapsed :  0.002"
       ]
      },
      {
       "output_type": "stream",
       "stream": "stdout",
       "text": [
        "\n",
        "Iteration   136 . Error :  0.000. Elapsed :  0.005\n",
        "Iteration   137 . Error :  0.000. Elapsed :  0.002\n",
        "Iteration   138 . Error :  0.000. Elapsed :  0.002\n",
        "Iteration   139 . Error :  0.000. Elapsed :  0.002\n",
        "Iteration   140 . Error :  0.000. Elapsed :  0.002\n",
        "Iteration   141 . Error :  0.000. Elapsed :  0.003\n",
        "Iteration   142 . Error :  0.000. Elapsed :  0.002\n",
        "Iteration   143 . Error :  0.000. Elapsed :  0.004\n",
        "Iteration   144 . Error :  0.000. Elapsed :  0.002\n",
        "Iteration   145 . Error :  0.000. Elapsed :  0.002\n",
        "Iteration   146 . Error :  0.000. Elapsed :  0.003\n",
        "Iteration   147 . Error :  0.000. Elapsed :  0.002\n",
        "Iteration   148 . Error :  0.000. Elapsed :  0.002\n",
        "Iteration   149 . Error :  0.000. Elapsed :  0.003\n",
        "Iteration   150 . Error :  0.000. Elapsed :  0.002\n",
        "Iteration   151 . Error :  0.000. Elapsed :  0.002\n",
        "Iteration   152 . Error :  0.000. Elapsed :  0.002\n",
        "Iteration   153 . Error :  0.000. Elapsed :  0.002\n",
        "Iteration   154 . Error :  0.000. Elapsed :  0.002\n",
        "Iteration   155 . Error :  0.000. Elapsed :  0.002\n",
        "Iteration   156 . Error :  0.000. Elapsed :  0.002"
       ]
      },
      {
       "output_type": "stream",
       "stream": "stdout",
       "text": [
        "\n",
        "Iteration   157 . Error :  0.000. Elapsed :  0.002\n",
        "Iteration   158 . Error :  0.000. Elapsed :  0.002\n",
        "Iteration   159 . Error :  0.000. Elapsed :  0.002\n",
        "Iteration   160 . Error :  0.000. Elapsed :  0.002\n",
        "Iteration   161 . Error :  0.000. Elapsed :  0.002\n",
        "Iteration   162 . Error :  0.000. Elapsed :  0.002\n",
        "Iteration   163 . Error :  0.000. Elapsed :  0.002\n",
        "Iteration   164 . Error :  0.000. Elapsed :  0.002\n",
        "Iteration   165 . Error :  0.000. Elapsed :  0.002\n",
        "Iteration   166 . Error :  0.000. Elapsed :  0.002\n",
        "Iteration   167 . Error :  0.000. Elapsed :  0.002\n",
        "Iteration   168 . Error :  0.000. Elapsed :  0.002\n",
        "Iteration   169 . Error :  0.000. Elapsed :  0.002\n",
        "Iteration   170 . Error :  0.000. Elapsed :  0.002\n",
        "Iteration   171 . Error :  0.000. Elapsed :  0.002\n",
        "Iteration   172 . Error :  0.000. Elapsed :  0.002\n",
        "Iteration   173 . Error :  0.000. Elapsed :  0.002\n",
        "Iteration   174 . Error :  0.000. Elapsed :  0.002\n",
        "Iteration   175 . Error :  0.000. Elapsed :  0.002\n",
        "Iteration   176 . Error :  0.000. Elapsed :  0.002\n",
        "Iteration   177 . Error :  0.000. Elapsed :  0.002\n",
        "Iteration   178 . Error :  0.000. Elapsed :  0.002\n",
        "Iteration   179 . Error :  0.000. Elapsed :  0.002\n",
        "Iteration   180 . Error :  0.000. Elapsed :  0.002\n",
        "Iteration   181 . Error :  0.000. Elapsed :  0.002\n",
        "Iteration   182 . Error :  0.000. Elapsed :  0.002\n",
        "Iteration   183 . Error :  0.000. Elapsed :  0.002\n",
        "Iteration   184 . Error :  0.000. Elapsed :  0.002"
       ]
      },
      {
       "output_type": "stream",
       "stream": "stdout",
       "text": [
        "\n",
        "Iteration   185 . Error :  0.000. Elapsed :  0.002\n",
        "Iteration   186 . Error :  0.000. Elapsed :  0.002\n",
        "Iteration   187 . Error :  0.000. Elapsed :  0.006\n",
        "Iteration   188 . Error :  0.000. Elapsed :  0.002\n",
        "Iteration   189 . Error :  0.000. Elapsed :  0.003\n",
        "Iteration   190 . Error :  0.000. Elapsed :  0.002\n",
        "Iteration   191 . Error :  0.000. Elapsed :  0.002\n",
        "Iteration   192 . Error :  0.000. Elapsed :  0.003\n",
        "Iteration   193 . Error :  0.000. Elapsed :  0.002\n",
        "Iteration   194 . Error :  0.000. Elapsed :  0.002\n",
        "Iteration   195 . Error :  0.000. Elapsed :  0.002\n",
        "Iteration   196 . Error :  0.000. Elapsed :  0.002\n",
        "Iteration   197 . Error :  0.000. Elapsed :  0.002\n",
        "Iteration   198 . Error :  0.000. Elapsed :  0.002\n",
        "Iteration   199 . Error :  0.000. Elapsed :  0.002\n",
        "Iteration   200 . Error :  0.000. Elapsed :  0.002\n",
        "Iteration   201 . Error :  0.000. Elapsed :  0.002\n",
        "Iteration   202 . Error :  0.000. Elapsed :  0.002\n",
        "Iteration   203 . Error :  0.000. Elapsed :  0.002\n",
        "Iteration   204 . Error :  0.000. Elapsed :  0.002\n",
        "Iteration   205 . Error :  0.000. Elapsed :  0.002\n",
        "Iteration   206 . Error :  0.000. Elapsed :  0.002\n",
        "Iteration   207 . Error :  0.000. Elapsed :  0.002\n",
        "Iteration   208 . Error :  0.000. Elapsed :  0.002\n",
        "Iteration   209 . Error :  0.000. Elapsed :  0.002"
       ]
      },
      {
       "output_type": "stream",
       "stream": "stdout",
       "text": [
        "\n",
        "Iteration   210 . Error :  0.000. Elapsed :  0.002\n",
        "Iteration   211 . Error :  0.000. Elapsed :  0.002\n",
        "Iteration   212 . Error :  0.000. Elapsed :  0.002\n",
        "Iteration   213 . Error :  0.000. Elapsed :  0.002\n",
        "Iteration   214 . Error :  0.000. Elapsed :  0.002\n",
        "Iteration   215 . Error :  0.000. Elapsed :  0.002\n",
        "Iteration   216 . Error :  0.000. Elapsed :  0.002\n",
        "Iteration   217 . Error :  0.000. Elapsed :  0.002\n",
        "Iteration   218 . Error :  0.000. Elapsed :  0.002\n",
        "Iteration   219 . Error :  0.000. Elapsed :  0.002\n",
        "Iteration   220 . Error :  0.000. Elapsed :  0.002\n",
        "Iteration   221 . Error :  0.000. Elapsed :  0.002\n",
        "Iteration   222 . Error :  0.000. Elapsed :  0.002\n",
        "Iteration   223 . Error :  0.000. Elapsed :  0.002\n",
        "Iteration   224 . Error :  0.000. Elapsed :  0.002\n",
        "Iteration   225 . Error :  0.000. Elapsed :  0.002\n",
        "Iteration   226 . Error :  0.000. Elapsed :  0.002\n",
        "Iteration   227 . Error :  0.000. Elapsed :  0.002\n",
        "Iteration   228 . Error :  0.000. Elapsed :  0.002\n",
        "Iteration   229 . Error :  0.000. Elapsed :  0.002\n",
        "Iteration   230 . Error :  0.000. Elapsed :  0.002\n",
        "Iteration   231 . Error :  0.000. Elapsed :  0.002\n",
        "Iteration   232 . Error :  0.000. Elapsed :  0.002\n",
        "Iteration   233 . Error :  0.000. Elapsed :  0.002\n",
        "Iteration   234 . Error :  0.000. Elapsed :  0.002\n",
        "Iteration   235 . Error :  0.000. Elapsed :  0.002\n",
        "Iteration   236 . Error :  0.000. Elapsed :  0.002\n",
        "Iteration   237 . Error :  0.000. Elapsed :  0.002"
       ]
      },
      {
       "output_type": "stream",
       "stream": "stdout",
       "text": [
        "\n",
        "Iteration   238 . Error :  0.000. Elapsed :  0.002\n",
        "Iteration   239 . Error :  0.000. Elapsed :  0.002\n",
        "Iteration   240 . Error :  0.000. Elapsed :  0.002\n",
        "Iteration   241 . Error :  0.000. Elapsed :  0.002\n",
        "Iteration   242 . Error :  0.000. Elapsed :  0.002\n",
        "Iteration   243 . Error :  0.000. Elapsed :  0.002\n",
        "Iteration   244 . Error :  0.000. Elapsed :  0.002\n",
        "Iteration   245 . Error :  0.000. Elapsed :  0.002\n",
        "Iteration   246 . Error :  0.000. Elapsed :  0.002\n",
        "Iteration   247 . Error :  0.000. Elapsed :  0.002\n",
        "Iteration   248 . Error :  0.000. Elapsed :  0.002\n",
        "Iteration   249 . Error :  0.000. Elapsed :  0.002\n",
        "Iteration   250 . Error :  0.000. Elapsed :  0.002\n",
        "Iteration   251 . Error :  0.000. Elapsed :  0.002\n",
        "Iteration   252 . Error :  0.000. Elapsed :  0.002\n",
        "Iteration   253 . Error :  0.000. Elapsed :  0.002\n",
        "Iteration   254 . Error :  0.000. Elapsed :  0.002\n",
        "\n"
       ]
      }
     ],
     "prompt_number": 2
    },
    {
     "cell_type": "code",
     "collapsed": false,
     "input": [
      "pylab.plot(kgrid2,V0[0,0,:])\n",
      "pylab.plot(kgrid2,V0[1,0,:])\n",
      "pylab.plot(kgrid2,V0[2,0,:])\n",
      "pylab.plot(kgrid2,V0[3,0,:])\n",
      "pylab.plot(kgrid2,V0[4,0,:])\n",
      "pylab.plot(kgrid2,V0[5,0,:])\n",
      "pylab.plot(kgrid2,V0[6,0,:])"
     ],
     "language": "python",
     "metadata": {},
     "outputs": [
      {
       "ename": "NameError",
       "evalue": "name 'kgrid2' is not defined",
       "output_type": "pyerr",
       "traceback": [
        "\u001b[1;31m---------------------------------------------------------------------------\u001b[0m\n\u001b[1;31mNameError\u001b[0m                                 Traceback (most recent call last)",
        "\u001b[1;32m<ipython-input-3-e3fe0164b117>\u001b[0m in \u001b[0;36m<module>\u001b[1;34m()\u001b[0m\n\u001b[1;32m----> 1\u001b[1;33m \u001b[0mpylab\u001b[0m\u001b[1;33m.\u001b[0m\u001b[0mplot\u001b[0m\u001b[1;33m(\u001b[0m\u001b[0mkgrid2\u001b[0m\u001b[1;33m,\u001b[0m\u001b[0mV0\u001b[0m\u001b[1;33m[\u001b[0m\u001b[1;36m0\u001b[0m\u001b[1;33m,\u001b[0m\u001b[1;36m0\u001b[0m\u001b[1;33m,\u001b[0m\u001b[1;33m:\u001b[0m\u001b[1;33m]\u001b[0m\u001b[1;33m)\u001b[0m\u001b[1;33m\u001b[0m\u001b[0m\n\u001b[0m\u001b[0;32m      2\u001b[0m \u001b[0mpylab\u001b[0m\u001b[1;33m.\u001b[0m\u001b[0mplot\u001b[0m\u001b[1;33m(\u001b[0m\u001b[0mkgrid2\u001b[0m\u001b[1;33m,\u001b[0m\u001b[0mV0\u001b[0m\u001b[1;33m[\u001b[0m\u001b[1;36m1\u001b[0m\u001b[1;33m,\u001b[0m\u001b[1;36m0\u001b[0m\u001b[1;33m,\u001b[0m\u001b[1;33m:\u001b[0m\u001b[1;33m]\u001b[0m\u001b[1;33m)\u001b[0m\u001b[1;33m\u001b[0m\u001b[0m\n\u001b[0;32m      3\u001b[0m \u001b[0mpylab\u001b[0m\u001b[1;33m.\u001b[0m\u001b[0mplot\u001b[0m\u001b[1;33m(\u001b[0m\u001b[0mkgrid2\u001b[0m\u001b[1;33m,\u001b[0m\u001b[0mV0\u001b[0m\u001b[1;33m[\u001b[0m\u001b[1;36m2\u001b[0m\u001b[1;33m,\u001b[0m\u001b[1;36m0\u001b[0m\u001b[1;33m,\u001b[0m\u001b[1;33m:\u001b[0m\u001b[1;33m]\u001b[0m\u001b[1;33m)\u001b[0m\u001b[1;33m\u001b[0m\u001b[0m\n\u001b[0;32m      4\u001b[0m \u001b[0mpylab\u001b[0m\u001b[1;33m.\u001b[0m\u001b[0mplot\u001b[0m\u001b[1;33m(\u001b[0m\u001b[0mkgrid2\u001b[0m\u001b[1;33m,\u001b[0m\u001b[0mV0\u001b[0m\u001b[1;33m[\u001b[0m\u001b[1;36m3\u001b[0m\u001b[1;33m,\u001b[0m\u001b[1;36m0\u001b[0m\u001b[1;33m,\u001b[0m\u001b[1;33m:\u001b[0m\u001b[1;33m]\u001b[0m\u001b[1;33m)\u001b[0m\u001b[1;33m\u001b[0m\u001b[0m\n\u001b[0;32m      5\u001b[0m \u001b[0mpylab\u001b[0m\u001b[1;33m.\u001b[0m\u001b[0mplot\u001b[0m\u001b[1;33m(\u001b[0m\u001b[0mkgrid2\u001b[0m\u001b[1;33m,\u001b[0m\u001b[0mV0\u001b[0m\u001b[1;33m[\u001b[0m\u001b[1;36m4\u001b[0m\u001b[1;33m,\u001b[0m\u001b[1;36m0\u001b[0m\u001b[1;33m,\u001b[0m\u001b[1;33m:\u001b[0m\u001b[1;33m]\u001b[0m\u001b[1;33m)\u001b[0m\u001b[1;33m\u001b[0m\u001b[0m\n",
        "\u001b[1;31mNameError\u001b[0m: name 'kgrid2' is not defined"
       ]
      }
     ],
     "prompt_number": 3
    },
    {
     "cell_type": "code",
     "collapsed": false,
     "input": [
      "V0.shape"
     ],
     "language": "python",
     "metadata": {},
     "outputs": [
      {
       "output_type": "pyout",
       "prompt_number": 4,
       "text": [
        "(7, 100, 100)"
       ]
      }
     ],
     "prompt_number": 4
    },
    {
     "cell_type": "code",
     "collapsed": false,
     "input": [
      "VV0 = V0[:,0,:]"
     ],
     "language": "python",
     "metadata": {},
     "outputs": [],
     "prompt_number": 7
    },
    {
     "cell_type": "code",
     "collapsed": false,
     "input": [
      "VV0.shape"
     ],
     "language": "python",
     "metadata": {},
     "outputs": [
      {
       "output_type": "pyout",
       "prompt_number": 9,
       "text": [
        "(7, 100)"
       ]
      }
     ],
     "prompt_number": 9
    },
    {
     "cell_type": "code",
     "collapsed": false,
     "input": [
      "VV0[:,None,:].shape"
     ],
     "language": "python",
     "metadata": {},
     "outputs": [
      {
       "output_type": "pyout",
       "prompt_number": 10,
       "text": [
        "(7, 1, 100)"
       ]
      }
     ],
     "prompt_number": 10
    },
    {
     "cell_type": "code",
     "collapsed": false,
     "input": [
      "V0[:,0,:] - V0[:,1,:]"
     ],
     "language": "python",
     "metadata": {},
     "outputs": [
      {
       "output_type": "pyout",
       "prompt_number": 6,
       "text": [
        "array([[ 0.,  0.,  0.,  0.,  0.,  0.,  0.,  0.,  0.,  0.,  0.,  0.,  0.,\n",
        "         0.,  0.,  0.,  0.,  0.,  0.,  0.,  0.,  0.,  0.,  0.,  0.,  0.,\n",
        "         0.,  0.,  0.,  0.,  0.,  0.,  0.,  0.,  0.,  0.,  0.,  0.,  0.,\n",
        "         0.,  0.,  0.,  0.,  0.,  0.,  0.,  0.,  0.,  0.,  0.,  0.,  0.,\n",
        "         0.,  0.,  0.,  0.,  0.,  0.,  0.,  0.,  0.,  0.,  0.,  0.,  0.,\n",
        "         0.,  0.,  0.,  0.,  0.,  0.,  0.,  0.,  0.,  0.,  0.,  0.,  0.,\n",
        "         0.,  0.,  0.,  0.,  0.,  0.,  0.,  0.,  0.,  0.,  0.,  0.,  0.,\n",
        "         0.,  0.,  0.,  0.,  0.,  0.,  0.,  0.,  0.],\n",
        "       [ 0.,  0.,  0.,  0.,  0.,  0.,  0.,  0.,  0.,  0.,  0.,  0.,  0.,\n",
        "         0.,  0.,  0.,  0.,  0.,  0.,  0.,  0.,  0.,  0.,  0.,  0.,  0.,\n",
        "         0.,  0.,  0.,  0.,  0.,  0.,  0.,  0.,  0.,  0.,  0.,  0.,  0.,\n",
        "         0.,  0.,  0.,  0.,  0.,  0.,  0.,  0.,  0.,  0.,  0.,  0.,  0.,\n",
        "         0.,  0.,  0.,  0.,  0.,  0.,  0.,  0.,  0.,  0.,  0.,  0.,  0.,\n",
        "         0.,  0.,  0.,  0.,  0.,  0.,  0.,  0.,  0.,  0.,  0.,  0.,  0.,\n",
        "         0.,  0.,  0.,  0.,  0.,  0.,  0.,  0.,  0.,  0.,  0.,  0.,  0.,\n",
        "         0.,  0.,  0.,  0.,  0.,  0.,  0.,  0.,  0.],\n",
        "       [ 0.,  0.,  0.,  0.,  0.,  0.,  0.,  0.,  0.,  0.,  0.,  0.,  0.,\n",
        "         0.,  0.,  0.,  0.,  0.,  0.,  0.,  0.,  0.,  0.,  0.,  0.,  0.,\n",
        "         0.,  0.,  0.,  0.,  0.,  0.,  0.,  0.,  0.,  0.,  0.,  0.,  0.,\n",
        "         0.,  0.,  0.,  0.,  0.,  0.,  0.,  0.,  0.,  0.,  0.,  0.,  0.,\n",
        "         0.,  0.,  0.,  0.,  0.,  0.,  0.,  0.,  0.,  0.,  0.,  0.,  0.,\n",
        "         0.,  0.,  0.,  0.,  0.,  0.,  0.,  0.,  0.,  0.,  0.,  0.,  0.,\n",
        "         0.,  0.,  0.,  0.,  0.,  0.,  0.,  0.,  0.,  0.,  0.,  0.,  0.,\n",
        "         0.,  0.,  0.,  0.,  0.,  0.,  0.,  0.,  0.],\n",
        "       [ 0.,  0.,  0.,  0.,  0.,  0.,  0.,  0.,  0.,  0.,  0.,  0.,  0.,\n",
        "         0.,  0.,  0.,  0.,  0.,  0.,  0.,  0.,  0.,  0.,  0.,  0.,  0.,\n",
        "         0.,  0.,  0.,  0.,  0.,  0.,  0.,  0.,  0.,  0.,  0.,  0.,  0.,\n",
        "         0.,  0.,  0.,  0.,  0.,  0.,  0.,  0.,  0.,  0.,  0.,  0.,  0.,\n",
        "         0.,  0.,  0.,  0.,  0.,  0.,  0.,  0.,  0.,  0.,  0.,  0.,  0.,\n",
        "         0.,  0.,  0.,  0.,  0.,  0.,  0.,  0.,  0.,  0.,  0.,  0.,  0.,\n",
        "         0.,  0.,  0.,  0.,  0.,  0.,  0.,  0.,  0.,  0.,  0.,  0.,  0.,\n",
        "         0.,  0.,  0.,  0.,  0.,  0.,  0.,  0.,  0.],\n",
        "       [ 0.,  0.,  0.,  0.,  0.,  0.,  0.,  0.,  0.,  0.,  0.,  0.,  0.,\n",
        "         0.,  0.,  0.,  0.,  0.,  0.,  0.,  0.,  0.,  0.,  0.,  0.,  0.,\n",
        "         0.,  0.,  0.,  0.,  0.,  0.,  0.,  0.,  0.,  0.,  0.,  0.,  0.,\n",
        "         0.,  0.,  0.,  0.,  0.,  0.,  0.,  0.,  0.,  0.,  0.,  0.,  0.,\n",
        "         0.,  0.,  0.,  0.,  0.,  0.,  0.,  0.,  0.,  0.,  0.,  0.,  0.,\n",
        "         0.,  0.,  0.,  0.,  0.,  0.,  0.,  0.,  0.,  0.,  0.,  0.,  0.,\n",
        "         0.,  0.,  0.,  0.,  0.,  0.,  0.,  0.,  0.,  0.,  0.,  0.,  0.,\n",
        "         0.,  0.,  0.,  0.,  0.,  0.,  0.,  0.,  0.],\n",
        "       [ 0.,  0.,  0.,  0.,  0.,  0.,  0.,  0.,  0.,  0.,  0.,  0.,  0.,\n",
        "         0.,  0.,  0.,  0.,  0.,  0.,  0.,  0.,  0.,  0.,  0.,  0.,  0.,\n",
        "         0.,  0.,  0.,  0.,  0.,  0.,  0.,  0.,  0.,  0.,  0.,  0.,  0.,\n",
        "         0.,  0.,  0.,  0.,  0.,  0.,  0.,  0.,  0.,  0.,  0.,  0.,  0.,\n",
        "         0.,  0.,  0.,  0.,  0.,  0.,  0.,  0.,  0.,  0.,  0.,  0.,  0.,\n",
        "         0.,  0.,  0.,  0.,  0.,  0.,  0.,  0.,  0.,  0.,  0.,  0.,  0.,\n",
        "         0.,  0.,  0.,  0.,  0.,  0.,  0.,  0.,  0.,  0.,  0.,  0.,  0.,\n",
        "         0.,  0.,  0.,  0.,  0.,  0.,  0.,  0.,  0.],\n",
        "       [ 0.,  0.,  0.,  0.,  0.,  0.,  0.,  0.,  0.,  0.,  0.,  0.,  0.,\n",
        "         0.,  0.,  0.,  0.,  0.,  0.,  0.,  0.,  0.,  0.,  0.,  0.,  0.,\n",
        "         0.,  0.,  0.,  0.,  0.,  0.,  0.,  0.,  0.,  0.,  0.,  0.,  0.,\n",
        "         0.,  0.,  0.,  0.,  0.,  0.,  0.,  0.,  0.,  0.,  0.,  0.,  0.,\n",
        "         0.,  0.,  0.,  0.,  0.,  0.,  0.,  0.,  0.,  0.,  0.,  0.,  0.,\n",
        "         0.,  0.,  0.,  0.,  0.,  0.,  0.,  0.,  0.,  0.,  0.,  0.,  0.,\n",
        "         0.,  0.,  0.,  0.,  0.,  0.,  0.,  0.,  0.,  0.,  0.,  0.,  0.,\n",
        "         0.,  0.,  0.,  0.,  0.,  0.,  0.,  0.,  0.]])"
       ]
      }
     ],
     "prompt_number": 6
    },
    {
     "cell_type": "code",
     "collapsed": false,
     "input": [
      "dd = {'a': 43}"
     ],
     "language": "python",
     "metadata": {},
     "outputs": [],
     "prompt_number": 3
    },
    {
     "cell_type": "code",
     "collapsed": false,
     "input": [
      "%timeit for i in range(500): h = dd['a']"
     ],
     "language": "python",
     "metadata": {},
     "outputs": [
      {
       "output_type": "stream",
       "stream": "stdout",
       "text": [
        "10000 loops, best of 3: 34 us per loop\n"
       ]
      }
     ],
     "prompt_number": 5
    },
    {
     "cell_type": "code",
     "collapsed": false,
     "input": [],
     "language": "python",
     "metadata": {},
     "outputs": []
    }
   ],
   "metadata": {}
  }
 ]
}